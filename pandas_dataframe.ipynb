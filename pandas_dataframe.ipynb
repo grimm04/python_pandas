{
 "cells": [
  {
   "cell_type": "code",
   "execution_count": 1,
   "id": "d2a0a2ff-d7c6-4040-86d2-42c6df3cf1a0",
   "metadata": {},
   "outputs": [],
   "source": [
    "import pandas as pd"
   ]
  },
  {
   "cell_type": "code",
   "execution_count": 2,
   "id": "a35b0550-7aef-4cc8-b4b6-5e82b3cdc969",
   "metadata": {},
   "outputs": [],
   "source": [
    "df1 = pd.DataFrame()"
   ]
  },
  {
   "cell_type": "code",
   "execution_count": 3,
   "id": "0e5aa093-056c-4013-bfd2-706f6af704cf",
   "metadata": {},
   "outputs": [
    {
     "data": {
      "text/plain": [
       "pandas.core.frame.DataFrame"
      ]
     },
     "execution_count": 3,
     "metadata": {},
     "output_type": "execute_result"
    }
   ],
   "source": [
    "type(df1)"
   ]
  },
  {
   "cell_type": "code",
   "execution_count": 4,
   "id": "dc82e387-a585-4907-8b3f-bb2d7824e453",
   "metadata": {},
   "outputs": [
    {
     "name": "stdout",
     "output_type": "stream",
     "text": [
      "Empty DataFrame\n",
      "Columns: []\n",
      "Index: []\n"
     ]
    }
   ],
   "source": [
    "print(df1)"
   ]
  },
  {
   "cell_type": "code",
   "execution_count": 5,
   "id": "882d047d-5257-4f44-ba6d-d82ee66f80a7",
   "metadata": {},
   "outputs": [
    {
     "data": {
      "text/plain": [
       "RangeIndex(start=0, stop=0, step=1)"
      ]
     },
     "execution_count": 5,
     "metadata": {},
     "output_type": "execute_result"
    }
   ],
   "source": [
    "df1.columns"
   ]
  },
  {
   "cell_type": "code",
   "execution_count": 6,
   "id": "90f2bb88-a20d-488c-b628-1947c57c0939",
   "metadata": {},
   "outputs": [
    {
     "data": {
      "text/plain": [
       "RangeIndex(start=0, stop=0, step=1)"
      ]
     },
     "execution_count": 6,
     "metadata": {},
     "output_type": "execute_result"
    }
   ],
   "source": [
    "df1.index"
   ]
  },
  {
   "cell_type": "code",
   "execution_count": 7,
   "id": "b03e903c-7d07-46e6-b4e8-4c506d498054",
   "metadata": {},
   "outputs": [],
   "source": [
    "students_list = [['Bob','William', 26, 'Computer Engineering',86], \n",
    "                 ['Enma','Johnson',23,'Math',92],\n",
    "                 ['Sarah','Smith',22,'Chemistry',95],\n",
    "                 ['Alex','Brown',21,'Electircal Engineering',82]]"
   ]
  },
  {
   "cell_type": "code",
   "execution_count": 8,
   "id": "d2497df1-1146-487b-b35e-1b7d459af926",
   "metadata": {},
   "outputs": [],
   "source": [
    "students_df = pd.DataFrame(students_list)"
   ]
  },
  {
   "cell_type": "code",
   "execution_count": 9,
   "id": "66ef1ac1-62e1-41e8-9705-c997f81527ac",
   "metadata": {},
   "outputs": [
    {
     "data": {
      "text/html": [
       "<div>\n",
       "<style scoped>\n",
       "    .dataframe tbody tr th:only-of-type {\n",
       "        vertical-align: middle;\n",
       "    }\n",
       "\n",
       "    .dataframe tbody tr th {\n",
       "        vertical-align: top;\n",
       "    }\n",
       "\n",
       "    .dataframe thead th {\n",
       "        text-align: right;\n",
       "    }\n",
       "</style>\n",
       "<table border=\"1\" class=\"dataframe\">\n",
       "  <thead>\n",
       "    <tr style=\"text-align: right;\">\n",
       "      <th></th>\n",
       "      <th>0</th>\n",
       "      <th>1</th>\n",
       "      <th>2</th>\n",
       "      <th>3</th>\n",
       "      <th>4</th>\n",
       "    </tr>\n",
       "  </thead>\n",
       "  <tbody>\n",
       "    <tr>\n",
       "      <th>0</th>\n",
       "      <td>Bob</td>\n",
       "      <td>William</td>\n",
       "      <td>26</td>\n",
       "      <td>Computer Engineering</td>\n",
       "      <td>86</td>\n",
       "    </tr>\n",
       "    <tr>\n",
       "      <th>1</th>\n",
       "      <td>Enma</td>\n",
       "      <td>Johnson</td>\n",
       "      <td>23</td>\n",
       "      <td>Math</td>\n",
       "      <td>92</td>\n",
       "    </tr>\n",
       "    <tr>\n",
       "      <th>2</th>\n",
       "      <td>Sarah</td>\n",
       "      <td>Smith</td>\n",
       "      <td>22</td>\n",
       "      <td>Chemistry</td>\n",
       "      <td>95</td>\n",
       "    </tr>\n",
       "    <tr>\n",
       "      <th>3</th>\n",
       "      <td>Alex</td>\n",
       "      <td>Brown</td>\n",
       "      <td>21</td>\n",
       "      <td>Electircal Engineering</td>\n",
       "      <td>82</td>\n",
       "    </tr>\n",
       "  </tbody>\n",
       "</table>\n",
       "</div>"
      ],
      "text/plain": [
       "       0        1   2                       3   4\n",
       "0    Bob  William  26    Computer Engineering  86\n",
       "1   Enma  Johnson  23                    Math  92\n",
       "2  Sarah    Smith  22               Chemistry  95\n",
       "3   Alex    Brown  21  Electircal Engineering  82"
      ]
     },
     "execution_count": 9,
     "metadata": {},
     "output_type": "execute_result"
    }
   ],
   "source": [
    "students_df"
   ]
  },
  {
   "cell_type": "code",
   "execution_count": 10,
   "id": "4f600c46-4d02-4003-b313-253d9fd4c77b",
   "metadata": {},
   "outputs": [],
   "source": [
    "students_df = pd.DataFrame(students_list, columns=['Fist_Name','Last_Name','Age','Major','Score'])"
   ]
  },
  {
   "cell_type": "code",
   "execution_count": 11,
   "id": "5a93b238-ddc3-4c57-b66f-716ce6211f96",
   "metadata": {},
   "outputs": [
    {
     "data": {
      "text/html": [
       "<div>\n",
       "<style scoped>\n",
       "    .dataframe tbody tr th:only-of-type {\n",
       "        vertical-align: middle;\n",
       "    }\n",
       "\n",
       "    .dataframe tbody tr th {\n",
       "        vertical-align: top;\n",
       "    }\n",
       "\n",
       "    .dataframe thead th {\n",
       "        text-align: right;\n",
       "    }\n",
       "</style>\n",
       "<table border=\"1\" class=\"dataframe\">\n",
       "  <thead>\n",
       "    <tr style=\"text-align: right;\">\n",
       "      <th></th>\n",
       "      <th>Fist_Name</th>\n",
       "      <th>Last_Name</th>\n",
       "      <th>Age</th>\n",
       "      <th>Major</th>\n",
       "      <th>Score</th>\n",
       "    </tr>\n",
       "  </thead>\n",
       "  <tbody>\n",
       "    <tr>\n",
       "      <th>0</th>\n",
       "      <td>Bob</td>\n",
       "      <td>William</td>\n",
       "      <td>26</td>\n",
       "      <td>Computer Engineering</td>\n",
       "      <td>86</td>\n",
       "    </tr>\n",
       "    <tr>\n",
       "      <th>1</th>\n",
       "      <td>Enma</td>\n",
       "      <td>Johnson</td>\n",
       "      <td>23</td>\n",
       "      <td>Math</td>\n",
       "      <td>92</td>\n",
       "    </tr>\n",
       "    <tr>\n",
       "      <th>2</th>\n",
       "      <td>Sarah</td>\n",
       "      <td>Smith</td>\n",
       "      <td>22</td>\n",
       "      <td>Chemistry</td>\n",
       "      <td>95</td>\n",
       "    </tr>\n",
       "    <tr>\n",
       "      <th>3</th>\n",
       "      <td>Alex</td>\n",
       "      <td>Brown</td>\n",
       "      <td>21</td>\n",
       "      <td>Electircal Engineering</td>\n",
       "      <td>82</td>\n",
       "    </tr>\n",
       "  </tbody>\n",
       "</table>\n",
       "</div>"
      ],
      "text/plain": [
       "  Fist_Name Last_Name  Age                   Major  Score\n",
       "0       Bob   William   26    Computer Engineering     86\n",
       "1      Enma   Johnson   23                    Math     92\n",
       "2     Sarah     Smith   22               Chemistry     95\n",
       "3      Alex     Brown   21  Electircal Engineering     82"
      ]
     },
     "execution_count": 11,
     "metadata": {},
     "output_type": "execute_result"
    }
   ],
   "source": [
    "students_df"
   ]
  },
  {
   "cell_type": "code",
   "execution_count": 16,
   "id": "47ab86ee-1875-4e63-80ea-3af5c6e80c76",
   "metadata": {},
   "outputs": [],
   "source": [
    "students_df = pd.DataFrame(students_list,columns=['Fist_Name','Last_Name','Age','Major','Score'],\n",
    "                    index= ['Bob@mail.com','Emma@mail.com','sarah@mail.com','Alex@mail.com'])"
   ]
  },
  {
   "cell_type": "code",
   "execution_count": 18,
   "id": "8258d421-65e2-4b9e-b027-febc8a567b33",
   "metadata": {},
   "outputs": [
    {
     "data": {
      "text/html": [
       "<div>\n",
       "<style scoped>\n",
       "    .dataframe tbody tr th:only-of-type {\n",
       "        vertical-align: middle;\n",
       "    }\n",
       "\n",
       "    .dataframe tbody tr th {\n",
       "        vertical-align: top;\n",
       "    }\n",
       "\n",
       "    .dataframe thead th {\n",
       "        text-align: right;\n",
       "    }\n",
       "</style>\n",
       "<table border=\"1\" class=\"dataframe\">\n",
       "  <thead>\n",
       "    <tr style=\"text-align: right;\">\n",
       "      <th></th>\n",
       "      <th>Fist_Name</th>\n",
       "      <th>Last_Name</th>\n",
       "      <th>Age</th>\n",
       "      <th>Major</th>\n",
       "      <th>Score</th>\n",
       "    </tr>\n",
       "  </thead>\n",
       "  <tbody>\n",
       "    <tr>\n",
       "      <th>Bob@mail.com</th>\n",
       "      <td>Bob</td>\n",
       "      <td>William</td>\n",
       "      <td>26</td>\n",
       "      <td>Computer Engineering</td>\n",
       "      <td>86</td>\n",
       "    </tr>\n",
       "    <tr>\n",
       "      <th>Emma@mail.com</th>\n",
       "      <td>Enma</td>\n",
       "      <td>Johnson</td>\n",
       "      <td>23</td>\n",
       "      <td>Math</td>\n",
       "      <td>92</td>\n",
       "    </tr>\n",
       "    <tr>\n",
       "      <th>sarah@mail.com</th>\n",
       "      <td>Sarah</td>\n",
       "      <td>Smith</td>\n",
       "      <td>22</td>\n",
       "      <td>Chemistry</td>\n",
       "      <td>95</td>\n",
       "    </tr>\n",
       "    <tr>\n",
       "      <th>Alex@mail.com</th>\n",
       "      <td>Alex</td>\n",
       "      <td>Brown</td>\n",
       "      <td>21</td>\n",
       "      <td>Electircal Engineering</td>\n",
       "      <td>82</td>\n",
       "    </tr>\n",
       "  </tbody>\n",
       "</table>\n",
       "</div>"
      ],
      "text/plain": [
       "               Fist_Name Last_Name  Age                   Major  Score\n",
       "Bob@mail.com         Bob   William   26    Computer Engineering     86\n",
       "Emma@mail.com       Enma   Johnson   23                    Math     92\n",
       "sarah@mail.com     Sarah     Smith   22               Chemistry     95\n",
       "Alex@mail.com       Alex     Brown   21  Electircal Engineering     82"
      ]
     },
     "execution_count": 18,
     "metadata": {},
     "output_type": "execute_result"
    }
   ],
   "source": [
    "students_df"
   ]
  },
  {
   "cell_type": "code",
   "execution_count": 19,
   "id": "15a20cf9-5614-41ae-b832-a62ddac470dd",
   "metadata": {},
   "outputs": [],
   "source": [
    "students_dict = {\n",
    "    'First_Name':['Bob','Emma','Sarah','Alex'],\n",
    "    'Last_Name':['William','Johnson','Smith','Brown'],\n",
    "    'Age':[26,23,22,21],\n",
    "    'Major':['Computer Engineering','Math','Chemistry','Electircal Engineering'],\n",
    "    'Score':[86,92,95,82],\n",
    "}"
   ]
  },
  {
   "cell_type": "code",
   "execution_count": 22,
   "id": "a80fef89-b702-4406-8ceb-b41b199f96cf",
   "metadata": {},
   "outputs": [],
   "source": [
    "students_df2 =pd.DataFrame(students_dict, columns=['Last_Name','Score','City'])"
   ]
  },
  {
   "cell_type": "code",
   "execution_count": 23,
   "id": "9d34ab71-0294-4df1-954c-db20ceddd550",
   "metadata": {},
   "outputs": [
    {
     "data": {
      "text/html": [
       "<div>\n",
       "<style scoped>\n",
       "    .dataframe tbody tr th:only-of-type {\n",
       "        vertical-align: middle;\n",
       "    }\n",
       "\n",
       "    .dataframe tbody tr th {\n",
       "        vertical-align: top;\n",
       "    }\n",
       "\n",
       "    .dataframe thead th {\n",
       "        text-align: right;\n",
       "    }\n",
       "</style>\n",
       "<table border=\"1\" class=\"dataframe\">\n",
       "  <thead>\n",
       "    <tr style=\"text-align: right;\">\n",
       "      <th></th>\n",
       "      <th>Last_Name</th>\n",
       "      <th>Score</th>\n",
       "      <th>City</th>\n",
       "    </tr>\n",
       "  </thead>\n",
       "  <tbody>\n",
       "    <tr>\n",
       "      <th>0</th>\n",
       "      <td>William</td>\n",
       "      <td>86</td>\n",
       "      <td>NaN</td>\n",
       "    </tr>\n",
       "    <tr>\n",
       "      <th>1</th>\n",
       "      <td>Johnson</td>\n",
       "      <td>92</td>\n",
       "      <td>NaN</td>\n",
       "    </tr>\n",
       "    <tr>\n",
       "      <th>2</th>\n",
       "      <td>Smith</td>\n",
       "      <td>95</td>\n",
       "      <td>NaN</td>\n",
       "    </tr>\n",
       "    <tr>\n",
       "      <th>3</th>\n",
       "      <td>Brown</td>\n",
       "      <td>82</td>\n",
       "      <td>NaN</td>\n",
       "    </tr>\n",
       "  </tbody>\n",
       "</table>\n",
       "</div>"
      ],
      "text/plain": [
       "  Last_Name  Score City\n",
       "0   William     86  NaN\n",
       "1   Johnson     92  NaN\n",
       "2     Smith     95  NaN\n",
       "3     Brown     82  NaN"
      ]
     },
     "execution_count": 23,
     "metadata": {},
     "output_type": "execute_result"
    }
   ],
   "source": [
    "students_df2"
   ]
  },
  {
   "cell_type": "code",
   "execution_count": 24,
   "id": "51b6d5b3-bcb0-4022-83a6-26c220912f0f",
   "metadata": {},
   "outputs": [
    {
     "data": {
      "text/html": [
       "<div>\n",
       "<style scoped>\n",
       "    .dataframe tbody tr th:only-of-type {\n",
       "        vertical-align: middle;\n",
       "    }\n",
       "\n",
       "    .dataframe tbody tr th {\n",
       "        vertical-align: top;\n",
       "    }\n",
       "\n",
       "    .dataframe thead th {\n",
       "        text-align: right;\n",
       "    }\n",
       "</style>\n",
       "<table border=\"1\" class=\"dataframe\">\n",
       "  <thead>\n",
       "    <tr style=\"text-align: right;\">\n",
       "      <th></th>\n",
       "      <th>Fist_Name</th>\n",
       "      <th>Last_Name</th>\n",
       "      <th>Age</th>\n",
       "      <th>Major</th>\n",
       "      <th>Score</th>\n",
       "    </tr>\n",
       "  </thead>\n",
       "  <tbody>\n",
       "    <tr>\n",
       "      <th>Bob@mail.com</th>\n",
       "      <td>Bob</td>\n",
       "      <td>William</td>\n",
       "      <td>26</td>\n",
       "      <td>Computer Engineering</td>\n",
       "      <td>86</td>\n",
       "    </tr>\n",
       "    <tr>\n",
       "      <th>Emma@mail.com</th>\n",
       "      <td>Enma</td>\n",
       "      <td>Johnson</td>\n",
       "      <td>23</td>\n",
       "      <td>Math</td>\n",
       "      <td>92</td>\n",
       "    </tr>\n",
       "    <tr>\n",
       "      <th>sarah@mail.com</th>\n",
       "      <td>Sarah</td>\n",
       "      <td>Smith</td>\n",
       "      <td>22</td>\n",
       "      <td>Chemistry</td>\n",
       "      <td>95</td>\n",
       "    </tr>\n",
       "    <tr>\n",
       "      <th>Alex@mail.com</th>\n",
       "      <td>Alex</td>\n",
       "      <td>Brown</td>\n",
       "      <td>21</td>\n",
       "      <td>Electircal Engineering</td>\n",
       "      <td>82</td>\n",
       "    </tr>\n",
       "  </tbody>\n",
       "</table>\n",
       "</div>"
      ],
      "text/plain": [
       "               Fist_Name Last_Name  Age                   Major  Score\n",
       "Bob@mail.com         Bob   William   26    Computer Engineering     86\n",
       "Emma@mail.com       Enma   Johnson   23                    Math     92\n",
       "sarah@mail.com     Sarah     Smith   22               Chemistry     95\n",
       "Alex@mail.com       Alex     Brown   21  Electircal Engineering     82"
      ]
     },
     "execution_count": 24,
     "metadata": {},
     "output_type": "execute_result"
    }
   ],
   "source": [
    "students_df"
   ]
  },
  {
   "cell_type": "code",
   "execution_count": 25,
   "id": "a2bde545-9982-4dce-889b-8b274e6a6f02",
   "metadata": {},
   "outputs": [
    {
     "data": {
      "text/plain": [
       "Index(['Fist_Name', 'Last_Name', 'Age', 'Major', 'Score'], dtype='object')"
      ]
     },
     "execution_count": 25,
     "metadata": {},
     "output_type": "execute_result"
    }
   ],
   "source": [
    "students_df.columns"
   ]
  },
  {
   "cell_type": "code",
   "execution_count": 26,
   "id": "8d4b1989-87ba-418e-ab18-03e2e41bfc78",
   "metadata": {},
   "outputs": [
    {
     "data": {
      "text/plain": [
       "Index(['Bob@mail.com', 'Emma@mail.com', 'sarah@mail.com', 'Alex@mail.com'], dtype='object')"
      ]
     },
     "execution_count": 26,
     "metadata": {},
     "output_type": "execute_result"
    }
   ],
   "source": [
    "students_df.index"
   ]
  },
  {
   "cell_type": "code",
   "execution_count": 27,
   "id": "2c7dfd36-30f9-47d6-9064-f2c44235eee2",
   "metadata": {},
   "outputs": [
    {
     "data": {
      "text/plain": [
       "(4, 5)"
      ]
     },
     "execution_count": 27,
     "metadata": {},
     "output_type": "execute_result"
    }
   ],
   "source": [
    "students_df.shape"
   ]
  },
  {
   "cell_type": "code",
   "execution_count": 29,
   "id": "f10071db-e9ea-40cb-8715-f930e14f0b62",
   "metadata": {},
   "outputs": [
    {
     "data": {
      "text/html": [
       "<div>\n",
       "<style scoped>\n",
       "    .dataframe tbody tr th:only-of-type {\n",
       "        vertical-align: middle;\n",
       "    }\n",
       "\n",
       "    .dataframe tbody tr th {\n",
       "        vertical-align: top;\n",
       "    }\n",
       "\n",
       "    .dataframe thead th {\n",
       "        text-align: right;\n",
       "    }\n",
       "</style>\n",
       "<table border=\"1\" class=\"dataframe\">\n",
       "  <thead>\n",
       "    <tr style=\"text-align: right;\">\n",
       "      <th></th>\n",
       "      <th>Fist_Name</th>\n",
       "      <th>Last_Name</th>\n",
       "      <th>Age</th>\n",
       "      <th>Major</th>\n",
       "      <th>Score</th>\n",
       "    </tr>\n",
       "  </thead>\n",
       "  <tbody>\n",
       "    <tr>\n",
       "      <th>Bob@mail.com</th>\n",
       "      <td>Bob</td>\n",
       "      <td>William</td>\n",
       "      <td>26</td>\n",
       "      <td>Computer Engineering</td>\n",
       "      <td>86</td>\n",
       "    </tr>\n",
       "    <tr>\n",
       "      <th>Emma@mail.com</th>\n",
       "      <td>Enma</td>\n",
       "      <td>Johnson</td>\n",
       "      <td>23</td>\n",
       "      <td>Math</td>\n",
       "      <td>92</td>\n",
       "    </tr>\n",
       "  </tbody>\n",
       "</table>\n",
       "</div>"
      ],
      "text/plain": [
       "              Fist_Name Last_Name  Age                 Major  Score\n",
       "Bob@mail.com        Bob   William   26  Computer Engineering     86\n",
       "Emma@mail.com      Enma   Johnson   23                  Math     92"
      ]
     },
     "execution_count": 29,
     "metadata": {},
     "output_type": "execute_result"
    }
   ],
   "source": [
    "students_df.head(2)"
   ]
  },
  {
   "cell_type": "code",
   "execution_count": 30,
   "id": "64a8fe4d-ff56-490a-9517-300a80650207",
   "metadata": {},
   "outputs": [
    {
     "data": {
      "text/html": [
       "<div>\n",
       "<style scoped>\n",
       "    .dataframe tbody tr th:only-of-type {\n",
       "        vertical-align: middle;\n",
       "    }\n",
       "\n",
       "    .dataframe tbody tr th {\n",
       "        vertical-align: top;\n",
       "    }\n",
       "\n",
       "    .dataframe thead th {\n",
       "        text-align: right;\n",
       "    }\n",
       "</style>\n",
       "<table border=\"1\" class=\"dataframe\">\n",
       "  <thead>\n",
       "    <tr style=\"text-align: right;\">\n",
       "      <th></th>\n",
       "      <th>Fist_Name</th>\n",
       "      <th>Last_Name</th>\n",
       "      <th>Age</th>\n",
       "      <th>Major</th>\n",
       "      <th>Score</th>\n",
       "    </tr>\n",
       "  </thead>\n",
       "  <tbody>\n",
       "    <tr>\n",
       "      <th>Emma@mail.com</th>\n",
       "      <td>Enma</td>\n",
       "      <td>Johnson</td>\n",
       "      <td>23</td>\n",
       "      <td>Math</td>\n",
       "      <td>92</td>\n",
       "    </tr>\n",
       "    <tr>\n",
       "      <th>sarah@mail.com</th>\n",
       "      <td>Sarah</td>\n",
       "      <td>Smith</td>\n",
       "      <td>22</td>\n",
       "      <td>Chemistry</td>\n",
       "      <td>95</td>\n",
       "    </tr>\n",
       "    <tr>\n",
       "      <th>Alex@mail.com</th>\n",
       "      <td>Alex</td>\n",
       "      <td>Brown</td>\n",
       "      <td>21</td>\n",
       "      <td>Electircal Engineering</td>\n",
       "      <td>82</td>\n",
       "    </tr>\n",
       "  </tbody>\n",
       "</table>\n",
       "</div>"
      ],
      "text/plain": [
       "               Fist_Name Last_Name  Age                   Major  Score\n",
       "Emma@mail.com       Enma   Johnson   23                    Math     92\n",
       "sarah@mail.com     Sarah     Smith   22               Chemistry     95\n",
       "Alex@mail.com       Alex     Brown   21  Electircal Engineering     82"
      ]
     },
     "execution_count": 30,
     "metadata": {},
     "output_type": "execute_result"
    }
   ],
   "source": [
    "students_df.tail(3)"
   ]
  },
  {
   "cell_type": "code",
   "execution_count": 31,
   "id": "c2b10814-5cf8-4138-9711-1c6387090a9d",
   "metadata": {},
   "outputs": [
    {
     "name": "stdout",
     "output_type": "stream",
     "text": [
      "<class 'pandas.core.frame.DataFrame'>\n",
      "Index: 4 entries, Bob@mail.com to Alex@mail.com\n",
      "Data columns (total 5 columns):\n",
      " #   Column     Non-Null Count  Dtype \n",
      "---  ------     --------------  ----- \n",
      " 0   Fist_Name  4 non-null      object\n",
      " 1   Last_Name  4 non-null      object\n",
      " 2   Age        4 non-null      int64 \n",
      " 3   Major      4 non-null      object\n",
      " 4   Score      4 non-null      int64 \n",
      "dtypes: int64(2), object(3)\n",
      "memory usage: 192.0+ bytes\n"
     ]
    }
   ],
   "source": [
    "students_df.info()"
   ]
  },
  {
   "cell_type": "code",
   "execution_count": 33,
   "id": "847d0d93-ae6a-465c-9b82-04e648d4edd0",
   "metadata": {},
   "outputs": [
    {
     "data": {
      "text/html": [
       "<div>\n",
       "<style scoped>\n",
       "    .dataframe tbody tr th:only-of-type {\n",
       "        vertical-align: middle;\n",
       "    }\n",
       "\n",
       "    .dataframe tbody tr th {\n",
       "        vertical-align: top;\n",
       "    }\n",
       "\n",
       "    .dataframe thead th {\n",
       "        text-align: right;\n",
       "    }\n",
       "</style>\n",
       "<table border=\"1\" class=\"dataframe\">\n",
       "  <thead>\n",
       "    <tr style=\"text-align: right;\">\n",
       "      <th></th>\n",
       "      <th>Age</th>\n",
       "      <th>Score</th>\n",
       "    </tr>\n",
       "  </thead>\n",
       "  <tbody>\n",
       "    <tr>\n",
       "      <th>count</th>\n",
       "      <td>4.000000</td>\n",
       "      <td>4.00000</td>\n",
       "    </tr>\n",
       "    <tr>\n",
       "      <th>mean</th>\n",
       "      <td>23.000000</td>\n",
       "      <td>88.75000</td>\n",
       "    </tr>\n",
       "    <tr>\n",
       "      <th>std</th>\n",
       "      <td>2.160247</td>\n",
       "      <td>5.85235</td>\n",
       "    </tr>\n",
       "    <tr>\n",
       "      <th>min</th>\n",
       "      <td>21.000000</td>\n",
       "      <td>82.00000</td>\n",
       "    </tr>\n",
       "    <tr>\n",
       "      <th>25%</th>\n",
       "      <td>21.750000</td>\n",
       "      <td>85.00000</td>\n",
       "    </tr>\n",
       "    <tr>\n",
       "      <th>50%</th>\n",
       "      <td>22.500000</td>\n",
       "      <td>89.00000</td>\n",
       "    </tr>\n",
       "    <tr>\n",
       "      <th>75%</th>\n",
       "      <td>23.750000</td>\n",
       "      <td>92.75000</td>\n",
       "    </tr>\n",
       "    <tr>\n",
       "      <th>max</th>\n",
       "      <td>26.000000</td>\n",
       "      <td>95.00000</td>\n",
       "    </tr>\n",
       "  </tbody>\n",
       "</table>\n",
       "</div>"
      ],
      "text/plain": [
       "             Age     Score\n",
       "count   4.000000   4.00000\n",
       "mean   23.000000  88.75000\n",
       "std     2.160247   5.85235\n",
       "min    21.000000  82.00000\n",
       "25%    21.750000  85.00000\n",
       "50%    22.500000  89.00000\n",
       "75%    23.750000  92.75000\n",
       "max    26.000000  95.00000"
      ]
     },
     "execution_count": 33,
     "metadata": {},
     "output_type": "execute_result"
    }
   ],
   "source": [
    "students_df.describe()"
   ]
  },
  {
   "cell_type": "code",
   "execution_count": null,
   "id": "f1c01953-3d47-4d27-8813-0ace73ffd3ad",
   "metadata": {},
   "outputs": [],
   "source": []
  }
 ],
 "metadata": {
  "kernelspec": {
   "display_name": "Python 3 (ipykernel)",
   "language": "python",
   "name": "python3"
  },
  "language_info": {
   "codemirror_mode": {
    "name": "ipython",
    "version": 3
   },
   "file_extension": ".py",
   "mimetype": "text/x-python",
   "name": "python",
   "nbconvert_exporter": "python",
   "pygments_lexer": "ipython3",
   "version": "3.8.10"
  }
 },
 "nbformat": 4,
 "nbformat_minor": 5
}
