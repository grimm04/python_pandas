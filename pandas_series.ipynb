{
 "cells": [
  {
   "cell_type": "code",
   "execution_count": 4,
   "id": "0fb8c12a-2831-453c-bfaf-4828393f7447",
   "metadata": {},
   "outputs": [],
   "source": [
    "import pandas as pd"
   ]
  },
  {
   "cell_type": "code",
   "execution_count": 5,
   "id": "5fc2ae4d-0fa5-41d0-88d2-0b05ebdaf941",
   "metadata": {},
   "outputs": [],
   "source": [
    "s1 = pd.Series()"
   ]
  },
  {
   "cell_type": "code",
   "execution_count": 6,
   "id": "5bb4459c-6147-40e6-8614-82d86b78d765",
   "metadata": {},
   "outputs": [
    {
     "data": {
      "text/plain": [
       "Series([], dtype: object)"
      ]
     },
     "execution_count": 6,
     "metadata": {},
     "output_type": "execute_result"
    }
   ],
   "source": [
    "s1"
   ]
  },
  {
   "cell_type": "code",
   "execution_count": 7,
   "id": "435c1f94-6c7d-4727-8dc5-6968bcc32aed",
   "metadata": {},
   "outputs": [
    {
     "data": {
      "text/plain": [
       "5"
      ]
     },
     "execution_count": 7,
     "metadata": {},
     "output_type": "execute_result"
    }
   ],
   "source": [
    "x"
   ]
  },
  {
   "cell_type": "code",
   "execution_count": 8,
   "id": "8fe81369-20f1-4557-aa7a-7d734d1aea00",
   "metadata": {},
   "outputs": [],
   "source": [
    "s2 = pd.Series([1,2,3,4,5])"
   ]
  },
  {
   "cell_type": "code",
   "execution_count": 9,
   "id": "7f75d942-6cb2-48a9-8206-d95bfb5173e7",
   "metadata": {
    "scrolled": true
   },
   "outputs": [
    {
     "data": {
      "text/plain": [
       "0    1\n",
       "1    2\n",
       "2    3\n",
       "3    4\n",
       "4    5\n",
       "dtype: int64"
      ]
     },
     "execution_count": 9,
     "metadata": {},
     "output_type": "execute_result"
    }
   ],
   "source": [
    "s2"
   ]
  },
  {
   "cell_type": "code",
   "execution_count": 11,
   "id": "0e89c953-8efd-4dc1-9f99-1570fa89d371",
   "metadata": {},
   "outputs": [
    {
     "data": {
      "text/plain": [
       "RangeIndex(start=0, stop=5, step=1)"
      ]
     },
     "execution_count": 11,
     "metadata": {},
     "output_type": "execute_result"
    }
   ],
   "source": [
    "s2.index"
   ]
  },
  {
   "cell_type": "code",
   "execution_count": 12,
   "id": "11531a18-aa62-4f57-835c-16879aa05f9c",
   "metadata": {},
   "outputs": [],
   "source": [
    "s3 = pd.Series([1,2,3,4,5], index=[10,20,30,40,50])"
   ]
  },
  {
   "cell_type": "code",
   "execution_count": 13,
   "id": "f1255b43-b7ef-4fb4-aef4-9d3284cbb87c",
   "metadata": {},
   "outputs": [
    {
     "data": {
      "text/plain": [
       "10    1\n",
       "20    2\n",
       "30    3\n",
       "40    4\n",
       "50    5\n",
       "dtype: int64"
      ]
     },
     "execution_count": 13,
     "metadata": {},
     "output_type": "execute_result"
    }
   ],
   "source": [
    "s3"
   ]
  },
  {
   "cell_type": "code",
   "execution_count": 14,
   "id": "88c97f3d-e1fb-46cb-8dae-05d21945f722",
   "metadata": {},
   "outputs": [],
   "source": [
    "scores = pd.Series([2.5,3.5,4,5,3.8],index=[\"Bob\",\"Stue\",\"Marry\",\"Stella\",\"Jajang\"])"
   ]
  },
  {
   "cell_type": "code",
   "execution_count": 15,
   "id": "33efb0af-60d2-4d14-8427-b35ddffdbcdb",
   "metadata": {},
   "outputs": [
    {
     "data": {
      "text/plain": [
       "Bob       2.5\n",
       "Stue      3.5\n",
       "Marry     4.0\n",
       "Stella    5.0\n",
       "Jajang    3.8\n",
       "dtype: float64"
      ]
     },
     "execution_count": 15,
     "metadata": {},
     "output_type": "execute_result"
    }
   ],
   "source": [
    "scores"
   ]
  },
  {
   "cell_type": "code",
   "execution_count": 16,
   "id": "3e64d36a-02e2-4c53-9a98-1c64e389a649",
   "metadata": {},
   "outputs": [
    {
     "data": {
      "text/plain": [
       "Index(['Bob', 'Stue', 'Marry', 'Stella', 'Jajang'], dtype='object')"
      ]
     },
     "execution_count": 16,
     "metadata": {},
     "output_type": "execute_result"
    }
   ],
   "source": [
    "scores.index"
   ]
  },
  {
   "cell_type": "code",
   "execution_count": 18,
   "id": "e50ed5ef-effe-401d-8b37-4964f3950aa2",
   "metadata": {},
   "outputs": [
    {
     "data": {
      "text/plain": [
       "array([2.5, 3.5, 4. , 5. , 3.8])"
      ]
     },
     "execution_count": 18,
     "metadata": {},
     "output_type": "execute_result"
    }
   ],
   "source": [
    "scores.values"
   ]
  },
  {
   "cell_type": "code",
   "execution_count": 19,
   "id": "eec2d8e2-59ae-48e4-bf6d-197430f8cd35",
   "metadata": {},
   "outputs": [],
   "source": [
    "d = {'Bob':2.5,'Stue':3.5,'Marry':4,'Stella':5,'Jajang':3.8}"
   ]
  },
  {
   "cell_type": "code",
   "execution_count": 20,
   "id": "d1d6e218-0699-4724-9e86-a23dec815368",
   "metadata": {},
   "outputs": [],
   "source": [
    "s4 =  pd.Series(d)"
   ]
  },
  {
   "cell_type": "code",
   "execution_count": 21,
   "id": "cde0a486-e87a-4fb9-bdf4-d0bb1e2c35d9",
   "metadata": {},
   "outputs": [
    {
     "data": {
      "text/plain": [
       "Bob       2.5\n",
       "Stue      3.5\n",
       "Marry     4.0\n",
       "Stella    5.0\n",
       "Jajang    3.8\n",
       "dtype: float64"
      ]
     },
     "execution_count": 21,
     "metadata": {},
     "output_type": "execute_result"
    }
   ],
   "source": [
    "s4"
   ]
  },
  {
   "cell_type": "code",
   "execution_count": 22,
   "id": "49adb0d1-972c-4faa-b7ba-723435446923",
   "metadata": {},
   "outputs": [
    {
     "data": {
      "text/plain": [
       "Index(['Bob', 'Stue', 'Marry', 'Stella', 'Jajang'], dtype='object')"
      ]
     },
     "execution_count": 22,
     "metadata": {},
     "output_type": "execute_result"
    }
   ],
   "source": [
    "s4.index"
   ]
  },
  {
   "cell_type": "code",
   "execution_count": 23,
   "id": "2648e975-8a85-497b-b95d-91bc3e658e6e",
   "metadata": {},
   "outputs": [
    {
     "data": {
      "text/plain": [
       "array([2.5, 3.5, 4. , 5. , 3.8])"
      ]
     },
     "execution_count": 23,
     "metadata": {},
     "output_type": "execute_result"
    }
   ],
   "source": [
    "s4.values"
   ]
  },
  {
   "cell_type": "code",
   "execution_count": null,
   "id": "9dd61c5a-d275-42eb-96e1-d902804b847f",
   "metadata": {},
   "outputs": [],
   "source": []
  }
 ],
 "metadata": {
  "kernelspec": {
   "display_name": "Python 3 (ipykernel)",
   "language": "python",
   "name": "python3"
  },
  "language_info": {
   "codemirror_mode": {
    "name": "ipython",
    "version": 3
   },
   "file_extension": ".py",
   "mimetype": "text/x-python",
   "name": "python",
   "nbconvert_exporter": "python",
   "pygments_lexer": "ipython3",
   "version": "3.8.10"
  }
 },
 "nbformat": 4,
 "nbformat_minor": 5
}
